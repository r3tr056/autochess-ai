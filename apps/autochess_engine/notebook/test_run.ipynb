{
 "cells": [
  {
   "cell_type": "code",
   "execution_count": null,
   "metadata": {},
   "outputs": [],
   "source": [
    "import os, sys\n",
    "sys.path.append(os.path.join('..', 'src'))"
   ]
  },
  {
   "cell_type": "code",
   "execution_count": null,
   "metadata": {},
   "outputs": [],
   "source": [
    "from autochess.agent.player_chess import ChessPlayer\n",
    "from autochess.config import Config, PlayWithHumanConfig\n",
    "from autochess.env.chess_env import ChessEnv"
   ]
  },
  {
   "cell_type": "code",
   "execution_count": null,
   "metadata": {},
   "outputs": [],
   "source": [
    "def get_player(config):\n",
    "    from autochess.agent.model_class import ChessModel\n",
    "    from autochess.lib.model_helper import load_best_model_weight\n",
    "    model = ChessModel(config)\n",
    "    if not lead_best_model_weight(model):\n",
    "        raise RuntimeError(\"Best model not found!\")\n",
    "    return ChessPlayer(config, model.get_pipes(config.play.search_threads))\n",
    "\n",
    "def info(depth, move, score):\n",
    "    print(f\"Info score cp {int(score * 100)} depth { depth } pv { move }\")\n",
    "\n",
    "default_config = Config()\n",
    "PlayWithHumanConfig().update_play_config(default_config.play)\n",
    "me_player = None\n",
    "env = ChessEnv().reset()"
   ]
  },
  {
   "cell_type": "code",
   "execution_count": null,
   "metadata": {},
   "outputs": [],
   "source": [
    "# Play loop\n",
    "\n",
    "# get the best move for the board env\n",
    "if not me_player:\n",
    "    me_player = get_player(default_config)\n",
    "action = me_player.action(env, False)\n",
    "print(f\"bestmove { action }\")\n",
    "\n",
    "# Apply the move on the board env\n",
    "env.step(action)\n",
    "# display the board\n",
    "env.board"
   ]
  },
  {
   "cell_type": "code",
   "execution_count": null,
   "metadata": {},
   "outputs": [],
   "source": []
  }
 ],
 "metadata": {
  "kernelspec": {
   "display_name": "Python 3.10.5 64-bit",
   "language": "python",
   "name": "python3"
  },
  "language_info": {
   "name": "python",
   "version": "3.10.5"
  },
  "orig_nbformat": 4,
  "vscode": {
   "interpreter": {
    "hash": "201516addaaf464d1d2ec7913f651833ee2cc81e33997a4974aae78f49f0da01"
   }
  }
 },
 "nbformat": 4,
 "nbformat_minor": 2
}
